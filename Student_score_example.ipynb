{
 "cells": [
  {
   "cell_type": "markdown",
   "metadata": {},
   "source": [
    "### Libraries I'll use"
   ]
  },
  {
   "cell_type": "code",
   "execution_count": 5,
   "metadata": {},
   "outputs": [],
   "source": [
    "import pandas as pd\n",
    "import numpy as np\n",
    "import researchpy as rp\n",
    "import scipy.stats as stats\n",
    "from statsmodels.formula.api import ols\n",
    "import statsmodels.stats.multicomp as mc\n",
    "import statsmodels.api as sm\n",
    "import matplotlib as plt\n",
    "import scikit_posthocs as sc\n",
    "import seaborn as sn"
   ]
  },
  {
   "cell_type": "markdown",
   "metadata": {},
   "source": [
    "### Import the data into a pandas dataframe. I found this data set on Kaggle https://www.kaggle.com/spscientist/students-performance-in-exams"
   ]
  },
  {
   "cell_type": "code",
   "execution_count": 6,
   "metadata": {},
   "outputs": [],
   "source": [
    "all_data = pd.read_csv('studentsperformance.csv')"
   ]
  },
  {
   "cell_type": "markdown",
   "metadata": {},
   "source": [
    "### View the top of the data"
   ]
  },
  {
   "cell_type": "code",
   "execution_count": 7,
   "metadata": {},
   "outputs": [
    {
     "data": {
      "text/plain": [
       "(1000, 8)"
      ]
     },
     "execution_count": 7,
     "metadata": {},
     "output_type": "execute_result"
    }
   ],
   "source": [
    "all_data.shape"
   ]
  },
  {
   "cell_type": "code",
   "execution_count": 8,
   "metadata": {},
   "outputs": [
    {
     "data": {
      "text/plain": [
       "gender                         0\n",
       "race/ethnicity                 0\n",
       "parental_level_of_education    0\n",
       "lunch                          0\n",
       "test preparation course        0\n",
       "math_score                     0\n",
       "reading_score                  0\n",
       "writing_score                  0\n",
       "dtype: int64"
      ]
     },
     "execution_count": 8,
     "metadata": {},
     "output_type": "execute_result"
    }
   ],
   "source": [
    "all_data.isnull().sum()\n"
   ]
  },
  {
   "cell_type": "markdown",
   "metadata": {},
   "source": [
    "### Let's first see whether there are any differences in male vs female performance in each of the tests separately"
   ]
  },
  {
   "cell_type": "markdown",
   "metadata": {},
   "source": [
    "#### Descriptive stats"
   ]
  },
  {
   "cell_type": "code",
   "execution_count": 9,
   "metadata": {},
   "outputs": [
    {
     "name": "stdout",
     "output_type": "stream",
     "text": [
      "\n",
      "\n",
      "\n",
      "\n",
      "\n",
      "\n",
      "Stats for maths:\n",
      "           N     Mean       SD      SE  95% Conf.  Interval\n",
      "gender                                                    \n",
      "female  518  63.6332  15.4915  0.6807    62.2960   64.9704\n",
      "male    482  68.7282  14.3563  0.6539    67.4433   70.0131\n",
      "Stats for reading:\n",
      "           N     Mean       SD      SE  95% Conf.  Interval\n",
      "gender                                                    \n",
      "female  518  72.6081  14.3782  0.6317    71.3670   73.8492\n",
      "male    482  65.4730  13.9318  0.6346    64.2261   66.7199\n",
      "Stats for writing:\n",
      "           N     Mean       SD      SE  95% Conf.  Interval\n",
      "gender                                                    \n",
      "female  518  72.4672  14.8448  0.6522    71.1858   73.7486\n",
      "male    482  63.3112  14.1138  0.6429    62.0480   64.5744\n"
     ]
    }
   ],
   "source": [
    "desc_stats_maths_gender = rp.summary_cont(all_data['math_score'].groupby(all_data['gender']))\n",
    "desc_stats_reading_gender = rp.summary_cont(all_data['reading_score'].groupby(all_data['gender']))\n",
    "desc_stats_writing_gender = rp.summary_cont(all_data['writing_score'].groupby(all_data['gender']))\n",
    "print('Stats for maths:\\n', desc_stats_maths_gender)\n",
    "print('Stats for reading:\\n', desc_stats_reading_gender)\n",
    "print('Stats for writing:\\n', desc_stats_writing_gender)\n"
   ]
  },
  {
   "cell_type": "markdown",
   "metadata": {},
   "source": [
    "#### We can now visualise with graphs"
   ]
  },
  {
   "cell_type": "code",
   "execution_count": 10,
   "metadata": {},
   "outputs": [
    {
     "data": {
      "image/png": "[encoded data removed]",
      "text/plain": [
       "<Figure size 432x288 with 1 Axes>"
      ]
     },
     "metadata": {
      "needs_background": "light"
     },
     "output_type": "display_data"
    },
    {
     "data": {
      "image/png": "[encoded data removed]",
      "text/plain": [
       "<Figure size 432x288 with 1 Axes>"
      ]
     },
     "metadata": {
      "needs_background": "light"
     },
     "output_type": "display_data"
    },
    {
     "data": {
      "image/png": "[encoded data removed]",
      "text/plain": [
       "<Figure size 432x288 with 1 Axes>"
      ]
     },
     "metadata": {
      "needs_background": "light"
     },
     "output_type": "display_data"
    }
   ],
   "source": [
    "#function to make my life easier later on\n",
    "def bar_plot(data, bar_value, SD, title, *colors):\n",
    "    plot=data.plot.bar(y=bar_value, rot=90, yerr=SD, title=title, legend=False, color=colors);\n",
    "    for i, v in enumerate(data[bar_value]):\n",
    "        plot.text(i-0.1, v+1.5, str(round(v, 2)))\n",
    "    \n",
    "bar_plot(desc_stats_maths_gender, 'Mean',  'SE', 'Mean maths scores', 'salmon', 'lightblue')\n",
    "bar_plot(desc_stats_reading_gender, 'Mean', 'SE', 'Mean reading scores', 'salmon', 'lightblue')\n",
    "bar_plot(desc_stats_writing_gender, 'Mean', 'SE', 'Mean writing scores', 'salmon', 'lightblue')\n"
   ]
  },
  {
   "cell_type": "markdown",
   "metadata": {},
   "source": [
    "### We can see that depending on the gender some tasks have on average better performance than others, let's see if this is statistically significant"
   ]
  },
  {
   "cell_type": "code",
   "execution_count": 11,
   "metadata": {},
   "outputs": [],
   "source": [
    "def test_difference_two_groups(data, measure, grouping_variable, group_1, group_2, color_1, color_2):\n",
    "    #Visualise before distributions\n",
    "    plt.pyplot.hist(data[measure][data[grouping_variable] == group_1].values, color=color_1, alpha=0.7)\n",
    "    plt.pyplot.hist(data[measure][data[grouping_variable] == group_2].values, color=color_2, alpha=0.7)\n",
    "    plt.pyplot.show()\n",
    "    #assumptions first\n",
    "    group1_shapiro=stats.shapiro(data[measure][data[grouping_variable] == group_1].values)\n",
    "    group2_shapiro=stats.shapiro(data[measure][data[grouping_variable] == group_2].values)\n",
    "    levene_significance=stats.levene(data[measure][data[grouping_variable] == group_1],\n",
    "             data[measure][data[grouping_variable] == group_2],\n",
    "             center= 'mean')\n",
    "    #if assumptions violated for t-test do mann-whitney\n",
    "    if group1_shapiro[1]<=0.05 or group2_shapiro[1]<=0.05 or levene_significance[1]<=0.05:\n",
    "        print(f'the significance for differences in {measure} between {group_1} and {group_2} \\\n",
    "              {stats.mannwhitneyu(data[measure][all_data[grouping_variable]==group_1].values, data[measure][all_data[grouping_variable]==group_2].values, use_continuity=True, alternative=None)}') \n",
    "        \n",
    "    else:\n",
    "        print('the significance for differences in', measure, rp.ttest(group1=data[measure][all_data[grouping_variable]==group_1], group1_name=group_1,\n",
    "               group2=data[measure][all_data[grouping_variable]==group_2], group2_name=group_2))\n",
    "        \n",
    "\n",
    "      "
   ]
  },
  {
   "cell_type": "code",
   "execution_count": 13,
   "metadata": {},
   "outputs": [
    {
     "data": {
      "image/png": "[encoded data removed]",
      "text/plain": [
       "<Figure size 432x288 with 1 Axes>"
      ]
     },
     "metadata": {
      "needs_background": "light"
     },
     "output_type": "display_data"
    },
    {
     "name": "stdout",
     "output_type": "stream",
     "text": [
      "the significance for differences in math_score between female and male               MannwhitneyuResult(statistic=101768.5, pvalue=2.1395383867393836e-07)\n"
     ]
    },
    {
     "data": {
      "image/png": "[encoded data removed]",
      "text/plain": [
       "<Figure size 432x288 with 1 Axes>"
      ]
     },
     "metadata": {
      "needs_background": "light"
     },
     "output_type": "display_data"
    },
    {
     "name": "stdout",
     "output_type": "stream",
     "text": [
      "the significance for differences in reading_score between female and male               MannwhitneyuResult(statistic=89168.0, pvalue=2.6869200932318234e-15)\n"
     ]
    },
    {
     "data": {
      "image/png": "[encoded data removed]",
      "text/plain": [
       "<Figure size 432x288 with 1 Axes>"
      ]
     },
     "metadata": {
      "needs_background": "light"
     },
     "output_type": "display_data"
    },
    {
     "name": "stdout",
     "output_type": "stream",
     "text": [
      "the significance for differences in writing_score between female and male               MannwhitneyuResult(statistic=79719.5, pvalue=2.3345866161695205e-23)\n"
     ]
    }
   ],
   "source": [
    "test_difference_two_groups(all_data, 'math_score', 'gender', 'female', 'male', 'salmon', 'lightblue' )    \n",
    "test_difference_two_groups(all_data, 'reading_score', 'gender', 'female', 'male', 'salmon', 'lightblue')\n",
    "test_difference_two_groups(all_data, 'writing_score', 'gender', 'female', 'male', 'salmon', 'lightblue')\n",
    "      "
   ]
  },
  {
   "cell_type": "markdown",
   "metadata": {},
   "source": [
    "### Conclusion: if you're a female you are likely to be better at writing and reading but males are better at the math test. As a note, the distributions look normal to me, but because something didn't pass either shapiro or levene tests, the function did Mann-Whitney U tests instead of t-tests. This is okay since it's still significant.\n"
   ]
  },
  {
   "cell_type": "markdown",
   "metadata": {},
   "source": [
    "## Now let's look at whether preparation had any impact\n"
   ]
  },
  {
   "cell_type": "code",
   "execution_count": 14,
   "metadata": {},
   "outputs": [
    {
     "name": "stdout",
     "output_type": "stream",
     "text": [
      "\n",
      "\n",
      "\n",
      "\n",
      "\n",
      "\n",
      "Stats for maths:\n",
      "                            N     Mean       SD      SE  95% Conf.  Interval\n",
      "test preparation course                                                    \n",
      "completed                358  69.6955  14.4447  0.7634    68.1942   71.1969\n",
      "none                     642  64.0779  15.1924  0.5996    62.9005   65.2553\n",
      "Stats for reading:\n",
      "                            N     Mean       SD      SE  95% Conf.  Interval\n",
      "test preparation course                                                    \n",
      "completed                358  73.8939  13.6384  0.7208    72.4763   75.3114\n",
      "none                     642  66.5343  14.4639  0.5708    65.4133   67.6552\n",
      "Stats for writing:\n",
      "                            N     Mean       SD      SE  95% Conf.  Interval\n",
      "test preparation course                                                    \n",
      "completed                358  74.4190  13.3753  0.7069    73.0288   75.8092\n",
      "none                     642  64.5047  14.9997  0.5920    63.3422   65.6671\n"
     ]
    }
   ],
   "source": [
    "desc_stats_maths_prep = rp.summary_cont(all_data['math_score'].groupby(all_data['test preparation course']))\n",
    "desc_stats_reading_prep = rp.summary_cont(all_data['reading_score'].groupby(all_data['test preparation course']))\n",
    "desc_stats_writing_prep = rp.summary_cont(all_data['writing_score'].groupby(all_data['test preparation course']))\n",
    "print('Stats for maths:\\n', desc_stats_maths_prep)\n",
    "print('Stats for reading:\\n', desc_stats_reading_prep)\n",
    "print('Stats for writing:\\n', desc_stats_writing_prep)\n"
   ]
  },
  {
   "cell_type": "code",
   "execution_count": 356,
   "metadata": {},
   "outputs": [
    {
     "data": {
      "image/png": "[encoded data removed]",
      "text/plain": [
       "<Figure size 432x288 with 1 Axes>"
      ]
     },
     "metadata": {
      "needs_background": "light"
     },
     "output_type": "display_data"
    },
    {
     "data": {
      "image/png": "[encoded data removed]",
      "text/plain": [
       "<Figure size 432x288 with 1 Axes>"
      ]
     },
     "metadata": {
      "needs_background": "light"
     },
     "output_type": "display_data"
    },
    {
     "data": {
      "image/png": "[encoded data removed]",
      "text/plain": [
       "<Figure size 432x288 with 1 Axes>"
      ]
     },
     "metadata": {
      "needs_background": "light"
     },
     "output_type": "display_data"
    }
   ],
   "source": [
    "bar_plot(desc_stats_maths_prep, 'Mean',  'SE', 'Mean maths scores', 'darkgreen','lightgreen')\n",
    "bar_plot(desc_stats_reading_prep, 'Mean', 'SE', 'Mean reading scores', 'darkgreen','lightgreen')\n",
    "bar_plot(desc_stats_writing_prep, 'Mean', 'SE', 'Mean writing scores', 'darkgreen','lightgreen')\n"
   ]
  },
  {
   "cell_type": "code",
   "execution_count": 15,
   "metadata": {},
   "outputs": [
    {
     "data": {
      "image/png": "[encoded data removed]",
      "text/plain": [
       "<Figure size 432x288 with 1 Axes>"
      ]
     },
     "metadata": {
      "needs_background": "light"
     },
     "output_type": "display_data"
    },
    {
     "name": "stdout",
     "output_type": "stream",
     "text": [
      "the significance for differences in math_score between completed and none               MannwhitneyuResult(statistic=91424.0, pvalue=4.007587015234774e-08)\n"
     ]
    },
    {
     "data": {
      "image/png": "[encoded data removed]",
      "text/plain": [
       "<Figure size 432x288 with 1 Axes>"
      ]
     },
     "metadata": {
      "needs_background": "light"
     },
     "output_type": "display_data"
    },
    {
     "name": "stdout",
     "output_type": "stream",
     "text": [
      "the significance for differences in reading_score between completed and none               MannwhitneyuResult(statistic=81339.0, pvalue=8.558553605690196e-15)\n"
     ]
    },
    {
     "data": {
      "image/png": "[encoded data removed]",
      "text/plain": [
       "<Figure size 432x288 with 1 Axes>"
      ]
     },
     "metadata": {
      "needs_background": "light"
     },
     "output_type": "display_data"
    },
    {
     "name": "stdout",
     "output_type": "stream",
     "text": [
      "the significance for differences in writing_score between completed and none               MannwhitneyuResult(statistic=71027.0, pvalue=5.853863320835915e-24)\n"
     ]
    }
   ],
   "source": [
    "test_difference_two_groups(all_data, 'math_score', 'test preparation course', 'completed', 'none', 'darkgreen','lightgreen')    \n",
    "test_difference_two_groups(all_data, 'reading_score', 'test preparation course', 'completed', 'none', 'darkgreen','lightgreen')\n",
    "test_difference_two_groups(all_data, 'writing_score', 'test preparation course', 'completed', 'none', 'darkgreen','lightgreen')"
   ]
  },
  {
   "cell_type": "markdown",
   "metadata": {},
   "source": [
    "### We can see that in all cases it's better to be prepared. As a caveat, I should mention I'm going by the p-values, but if you look at the confidence intervals in the descriptive stats they're really high, so depending on the school of thought some statisticians might not believe the results.  "
   ]
  },
  {
   "cell_type": "markdown",
   "metadata": {},
   "source": [
    "## We can maybe get more fancy with it now and add a layer of complexity. Let's start with comparing a three group variable, e.g. parental education level."
   ]
  },
  {
   "cell_type": "code",
   "execution_count": 16,
   "metadata": {},
   "outputs": [
    {
     "name": "stdout",
     "output_type": "stream",
     "text": [
      "\n",
      "\n",
      "\n",
      "\n",
      "\n",
      "\n",
      "Stats for maths:\n",
      "                                N     Mean       SD      SE  95% Conf.  \\\n",
      "parental_level_of_education                                             \n",
      "associate's degree           222  67.8829  15.1121  1.0143    65.8840   \n",
      "bachelor's degree            118  69.3898  14.9438  1.3757    66.6654   \n",
      "high school                  196  62.1378  14.5397  1.0385    60.0895   \n",
      "master's degree               59  69.7458  15.1539  1.9729    65.7966   \n",
      "some college                 226  67.1283  14.3129  0.9521    65.2522   \n",
      "some high school             179  63.4972  15.9280  1.1905    61.1479   \n",
      "\n",
      "                             Interval  \n",
      "parental_level_of_education            \n",
      "associate's degree            69.8817  \n",
      "bachelor's degree             72.1143  \n",
      "high school                   64.1860  \n",
      "master's degree               73.6949  \n",
      "some college                  69.0045  \n",
      "some high school              65.8465  \n",
      "Stats for reading:\n",
      "                                N     Mean       SD      SE  95% Conf.  \\\n",
      "parental_level_of_education                                             \n",
      "associate's degree           222  70.9279  13.8689  0.9308    69.0935   \n",
      "bachelor's degree            118  73.0000  14.2853  1.3151    70.3956   \n",
      "high school                  196  64.7041  14.1321  1.0094    62.7133   \n",
      "master's degree               59  75.3729  13.7752  1.7934    71.7831   \n",
      "some college                 226  69.4602  14.0570  0.9351    67.6176   \n",
      "some high school             179  66.9385  15.4793  1.1570    64.6554   \n",
      "\n",
      "                             Interval  \n",
      "parental_level_of_education            \n",
      "associate's degree            72.7624  \n",
      "bachelor's degree             75.6044  \n",
      "high school                   66.6949  \n",
      "master's degree               78.9627  \n",
      "some college                  71.3028  \n",
      "some high school              69.2217  \n",
      "Stats for writing:\n",
      "                                N     Mean       SD      SE  95% Conf.  \\\n",
      "parental_level_of_education                                             \n",
      "associate's degree           222  69.8964  14.3111  0.9605    68.0035   \n",
      "bachelor's degree            118  73.3814  14.7283  1.3558    70.6962   \n",
      "high school                  196  62.4490  14.0859  1.0061    60.4647   \n",
      "master's degree               59  75.6780  13.7307  1.7876    72.0997   \n",
      "some college                 226  68.8407  15.0123  0.9986    66.8729   \n",
      "some high school             179  64.8883  15.7362  1.1762    62.5672   \n",
      "\n",
      "                             Interval  \n",
      "parental_level_of_education            \n",
      "associate's degree            71.7893  \n",
      "bachelor's degree             76.0665  \n",
      "high school                   64.4333  \n",
      "master's degree               79.2562  \n",
      "some college                  70.8085  \n",
      "some high school              67.2093  \n"
     ]
    }
   ],
   "source": [
    "desc_stats_maths_ed= rp.summary_cont(all_data['math_score'].groupby(all_data['parental_level_of_education']))\n",
    "desc_stats_reading_ed = rp.summary_cont(all_data['reading_score'].groupby(all_data['parental_level_of_education']))\n",
    "desc_stats_writing_ed = rp.summary_cont(all_data['writing_score'].groupby(all_data['parental_level_of_education']))\n",
    "print('Stats for maths:\\n', desc_stats_maths_ed)\n",
    "print('Stats for reading:\\n', desc_stats_reading_ed)\n",
    "print('Stats for writing:\\n', desc_stats_writing_ed)"
   ]
  },
  {
   "cell_type": "code",
   "execution_count": 17,
   "metadata": {},
   "outputs": [
    {
     "data": {
      "image/png": "[encoded data removed]",
      "text/plain": [
       "<Figure size 432x288 with 1 Axes>"
      ]
     },
     "metadata": {
      "needs_background": "light"
     },
     "output_type": "display_data"
    },
    {
     "data": {
      "image/png": "[encoded data removed]",
      "text/plain": [
       "<Figure size 432x288 with 1 Axes>"
      ]
     },
     "metadata": {
      "needs_background": "light"
     },
     "output_type": "display_data"
    },
    {
     "data": {
      "image/png": "[encoded data removed]",
      "text/plain": [
       "<Figure size 432x288 with 1 Axes>"
      ]
     },
     "metadata": {
      "needs_background": "light"
     },
     "output_type": "display_data"
    }
   ],
   "source": [
    "bar_plot(desc_stats_maths_ed, 'Mean',  'SE', 'Mean maths scores', 'navy','darkblue', 'royalblue', 'cornflowerblue', 'lightsteelblue', 'slategrey')\n",
    "bar_plot(desc_stats_reading_ed, 'Mean', 'SE', 'Mean reading scores', 'navy','darkblue', 'royalblue', 'cornflowerblue', 'lightsteelblue', 'slategrey')\n",
    "bar_plot(desc_stats_writing_ed, 'Mean', 'SE', 'Mean writing scores', 'navy','darkblue', 'royalblue', 'cornflowerblue', 'lightsteelblue', 'slategrey')"
   ]
  },
  {
   "cell_type": "markdown",
   "metadata": {},
   "source": [
    "## Now that's all fine but I would love to run some stats and at the moment I only have a function for comparing 2 groups, I need a one-way ANOVA/Kruskal-Wallis "
   ]
  },
  {
   "cell_type": "code",
   "execution_count": 18,
   "metadata": {},
   "outputs": [],
   "source": [
    "def multi_group_comp(data, measured_variable, grouped_by_variable, *groups):\n",
    "    \n",
    "    model = ols(f'{measured_variable} ~ C({grouped_by_variable})', data=data).fit()\n",
    "    shapiro=stats.shapiro(model.resid)\n",
    "    \n",
    "    #create a string that can later be used as input for functions I'm using \n",
    "    statement = \"\"\n",
    "    for group in groups:\n",
    "        statement = statement + f\"data[measured_variable][data[grouped_by_variable] == \\\"{group}\\\"], \"\n",
    "    statement = statement[:-2]\n",
    "    levene_query=f\"stats.levene({statement})\"\n",
    "    levene_result=eval(levene_query)\n",
    "    \n",
    "    if shapiro[1]>0.05 and levene_result[1]>0.05:\n",
    "        anova_query = f\"stats.f_oneway({statement})\"\n",
    "        anova_result = eval(anova_query)\n",
    "        print(anova_result)\n",
    "        post_hoc = sc.posthoc_tukey_hsd(data[measured_variable], data[grouped_by_variable])\n",
    "        print(post_hoc)\n",
    "    \n",
    "    kruskal_query=f\"stats.kruskal({statement})\"\n",
    "    kruskal_result = eval(kruskal_query)\n",
    "    print(kruskal_result)\n",
    "    post_hoc=sc.posthoc_dunn(data, measured_variable, grouped_by_variable)\n",
    "    print(post_hoc)"
   ]
  },
  {
   "cell_type": "code",
   "execution_count": 19,
   "metadata": {},
   "outputs": [
    {
     "name": "stdout",
     "output_type": "stream",
     "text": [
      "Maths results:\n",
      "KruskalResult(statistic=62.330390533062626, pvalue=4.006144326877935e-12)\n",
      "                    associate's degree  bachelor's degree   high school  \\\n",
      "associate's degree        1.000000e+00       4.895947e-02  9.974273e-07   \n",
      "bachelor's degree         4.895947e-02       1.000000e+00  1.538350e-09   \n",
      "high school               9.974273e-07       1.538350e-09  1.000000e+00   \n",
      "master's degree           1.267970e-02       3.772617e-01  1.288159e-08   \n",
      "some college              5.960469e-01       1.568953e-02  1.085644e-05   \n",
      "some high school          4.356669e-03       1.655015e-05  6.181308e-02   \n",
      "\n",
      "                    master's degree  some college  some high school  \n",
      "associate's degree     1.267970e-02      0.596047          0.004357  \n",
      "bachelor's degree      3.772617e-01      0.015690          0.000017  \n",
      "high school            1.288159e-08      0.000011          0.061813  \n",
      "master's degree        1.000000e+00      0.004513          0.000014  \n",
      "some college           4.512623e-03      1.000000          0.018186  \n",
      "some high school       1.425315e-05      0.018186          1.000000  \n",
      "\n",
      " Reading results:\n",
      "KruskalResult(statistic=38.66488816395158, pvalue=2.773717256928065e-07)\n",
      "                    associate's degree  bachelor's degree  high school  \\\n",
      "associate's degree            1.000000           0.316770     0.000024   \n",
      "bachelor's degree             0.316770           1.000000     0.000006   \n",
      "high school                   0.000024           0.000006     1.000000   \n",
      "master's degree               0.059328           0.309167     0.000003   \n",
      "some college                  0.362235           0.078026     0.000775   \n",
      "some high school              0.017129           0.002870     0.090996   \n",
      "\n",
      "                    master's degree  some college  some high school  \n",
      "associate's degree         0.059328      0.362235          0.017129  \n",
      "bachelor's degree          0.309167      0.078026          0.002870  \n",
      "high school                0.000003      0.000775          0.090996  \n",
      "master's degree            1.000000      0.013206          0.000592  \n",
      "some college               0.013206      1.000000          0.125294  \n",
      "some high school           0.000592      0.125294          1.000000  \n",
      "\n",
      " Writing results:\n",
      "KruskalResult(statistic=62.330390533062626, pvalue=4.006144326877935e-12)\n",
      "                    associate's degree  bachelor's degree   high school  \\\n",
      "associate's degree        1.000000e+00       4.895947e-02  9.974273e-07   \n",
      "bachelor's degree         4.895947e-02       1.000000e+00  1.538350e-09   \n",
      "high school               9.974273e-07       1.538350e-09  1.000000e+00   \n",
      "master's degree           1.267970e-02       3.772617e-01  1.288159e-08   \n",
      "some college              5.960469e-01       1.568953e-02  1.085644e-05   \n",
      "some high school          4.356669e-03       1.655015e-05  6.181308e-02   \n",
      "\n",
      "                    master's degree  some college  some high school  \n",
      "associate's degree     1.267970e-02      0.596047          0.004357  \n",
      "bachelor's degree      3.772617e-01      0.015690          0.000017  \n",
      "high school            1.288159e-08      0.000011          0.061813  \n",
      "master's degree        1.000000e+00      0.004513          0.000014  \n",
      "some college           4.512623e-03      1.000000          0.018186  \n",
      "some high school       1.425315e-05      0.018186          1.000000  \n"
     ]
    }
   ],
   "source": [
    "print('Maths results:') \n",
    "multi_group_comp(all_data, 'writing_score', 'parental_level_of_education', \"associate's degree\", \"bachelor's degree\", \"high school\", \"master's degree\", \"some college\", \"some high school\")\n",
    "print('\\n Reading results:')\n",
    "multi_group_comp(all_data, 'reading_score', 'parental_level_of_education', \"associate's degree\", \"bachelor's degree\", \"high school\", \"master's degree\", \"some college\", \"some high school\")\n",
    "print('\\n Writing results:')\n",
    "multi_group_comp(all_data, 'writing_score', 'parental_level_of_education', \"associate's degree\", \"bachelor's degree\", \"high school\", \"master's degree\", \"some college\", \"some high school\")"
   ]
  },
  {
   "cell_type": "markdown",
   "metadata": {},
   "source": [
    "### Now if we spend some time looking through the pairwise comparisons (which I don't blame you if you don't), we can see that kids whose parents had 'high school' or 'some high school' level of education were on average scoring significantly lower than any other parental education group in the maths and writing tests. They didn't however differ from each other. Similarly the 'high school' group scored lower than other groups (excluding 'some high school') in the reading test and 'some high school' scored lower than most groups.  "
   ]
  },
  {
   "cell_type": "markdown",
   "metadata": {},
   "source": [
    "# Let's say we wanted to have a model to predict the student's preformance based on what we know about them\n"
   ]
  },
  {
   "cell_type": "markdown",
   "metadata": {},
   "source": [
    "### Let's say we're curious about the maths data and want to predict how many students might score below 60, maybe for the purposes of intervening. We will say that those who score below 60 'Fail' and those who score above  'Pass'. "
   ]
  },
  {
   "cell_type": "code",
   "execution_count": 20,
   "metadata": {},
   "outputs": [
    {
     "data": {
      "text/html": [
       "<div>\n",
       "<style scoped>\n",
       "    .dataframe tbody tr th:only-of-type {\n",
       "        vertical-align: middle;\n",
       "    }\n",
       "\n",
       "    .dataframe tbody tr th {\n",
       "        vertical-align: top;\n",
       "    }\n",
       "\n",
       "    .dataframe thead th {\n",
       "        text-align: right;\n",
       "    }\n",
       "</style>\n",
       "<table border=\"1\" class=\"dataframe\">\n",
       "  <thead>\n",
       "    <tr style=\"text-align: right;\">\n",
       "      <th></th>\n",
       "      <th>gender</th>\n",
       "      <th>race/ethnicity</th>\n",
       "      <th>parental_level_of_education</th>\n",
       "      <th>lunch</th>\n",
       "      <th>test preparation course</th>\n",
       "      <th>math_score</th>\n",
       "      <th>reading_score</th>\n",
       "      <th>writing_score</th>\n",
       "    </tr>\n",
       "  </thead>\n",
       "  <tbody>\n",
       "    <tr>\n",
       "      <th>0</th>\n",
       "      <td>female</td>\n",
       "      <td>group B</td>\n",
       "      <td>bachelor's degree</td>\n",
       "      <td>standard</td>\n",
       "      <td>none</td>\n",
       "      <td>72</td>\n",
       "      <td>72</td>\n",
       "      <td>74</td>\n",
       "    </tr>\n",
       "    <tr>\n",
       "      <th>1</th>\n",
       "      <td>female</td>\n",
       "      <td>group C</td>\n",
       "      <td>some college</td>\n",
       "      <td>standard</td>\n",
       "      <td>completed</td>\n",
       "      <td>69</td>\n",
       "      <td>90</td>\n",
       "      <td>88</td>\n",
       "    </tr>\n",
       "    <tr>\n",
       "      <th>2</th>\n",
       "      <td>female</td>\n",
       "      <td>group B</td>\n",
       "      <td>master's degree</td>\n",
       "      <td>standard</td>\n",
       "      <td>none</td>\n",
       "      <td>90</td>\n",
       "      <td>95</td>\n",
       "      <td>93</td>\n",
       "    </tr>\n",
       "    <tr>\n",
       "      <th>3</th>\n",
       "      <td>male</td>\n",
       "      <td>group A</td>\n",
       "      <td>associate's degree</td>\n",
       "      <td>free/reduced</td>\n",
       "      <td>none</td>\n",
       "      <td>47</td>\n",
       "      <td>57</td>\n",
       "      <td>44</td>\n",
       "    </tr>\n",
       "    <tr>\n",
       "      <th>4</th>\n",
       "      <td>male</td>\n",
       "      <td>group C</td>\n",
       "      <td>some college</td>\n",
       "      <td>standard</td>\n",
       "      <td>none</td>\n",
       "      <td>76</td>\n",
       "      <td>78</td>\n",
       "      <td>75</td>\n",
       "    </tr>\n",
       "  </tbody>\n",
       "</table>\n",
       "</div>"
      ],
      "text/plain": [
       "   gender race/ethnicity parental_level_of_education         lunch  \\\n",
       "0  female        group B           bachelor's degree      standard   \n",
       "1  female        group C                some college      standard   \n",
       "2  female        group B             master's degree      standard   \n",
       "3    male        group A          associate's degree  free/reduced   \n",
       "4    male        group C                some college      standard   \n",
       "\n",
       "  test preparation course  math_score  reading_score  writing_score  \n",
       "0                    none          72             72             74  \n",
       "1               completed          69             90             88  \n",
       "2                    none          90             95             93  \n",
       "3                    none          47             57             44  \n",
       "4                    none          76             78             75  "
      ]
     },
     "execution_count": 20,
     "metadata": {},
     "output_type": "execute_result"
    }
   ],
   "source": [
    "all_data.head()"
   ]
  },
  {
   "cell_type": "code",
   "execution_count": 21,
   "metadata": {},
   "outputs": [],
   "source": [
    "writing_data=all_data[['gender', 'race/ethnicity', 'parental_level_of_education', 'lunch', 'test preparation course', 'writing_score']].copy()\n",
    "writing_data['score_bin']= pd.cut(x=writing_data['writing_score'], bins=[-1,60,100], labels=['Fail', 'Pass'] )\n",
    "writing_data=writing_data.drop('writing_score', axis=1)"
   ]
  },
  {
   "cell_type": "code",
   "execution_count": 22,
   "metadata": {},
   "outputs": [
    {
     "data": {
      "text/plain": [
       "Pass    0.699\n",
       "Fail    0.301\n",
       "Name: score_bin, dtype: float64"
      ]
     },
     "execution_count": 22,
     "metadata": {},
     "output_type": "execute_result"
    }
   ],
   "source": [
    "writing_data['score_bin'].value_counts(normalize=True)"
   ]
  },
  {
   "cell_type": "markdown",
   "metadata": {},
   "source": [
    "Let's first choose the variables that are relevant. One way of doing this is through a chi2 test that will test the interaction between our variable and the test outcome."
   ]
  },
  {
   "cell_type": "code",
   "execution_count": 23,
   "metadata": {},
   "outputs": [],
   "source": [
    "from scipy.stats import chi2_contingency"
   ]
  },
  {
   "cell_type": "code",
   "execution_count": 24,
   "metadata": {},
   "outputs": [],
   "source": [
    "categorical_columns = writing_data.select_dtypes(exclude = 'number').drop('score_bin', axis = 1).columns"
   ]
  },
  {
   "cell_type": "code",
   "execution_count": 25,
   "metadata": {},
   "outputs": [
    {
     "name": "stdout",
     "output_type": "stream",
     "text": [
      "                        Column              Hypothesis\n",
      "0                       gender  Reject Null Hypothesis\n",
      "1               race/ethnicity  Reject Null Hypothesis\n",
      "2  parental_level_of_education  Reject Null Hypothesis\n",
      "3                        lunch  Reject Null Hypothesis\n",
      "4      test preparation course  Reject Null Hypothesis\n"
     ]
    }
   ],
   "source": [
    "chi2_check = []\n",
    "for i in categorical_columns:\n",
    "    if chi2_contingency(pd.crosstab(writing_data['score_bin'], writing_data[i]))[1] < 0.05:\n",
    "        chi2_check.append('Reject Null Hypothesis')\n",
    "    else:\n",
    "        chi2_check.append('Fail to Reject Null Hypothesis')\n",
    "res = pd.DataFrame(data = [categorical_columns, chi2_check] \n",
    "             ).T \n",
    "res.columns = ['Column', 'Hypothesis']\n",
    "print(res)"
   ]
  },
  {
   "cell_type": "code",
   "execution_count": 26,
   "metadata": {},
   "outputs": [
    {
     "data": {
      "text/html": [
       "<div>\n",
       "<style scoped>\n",
       "    .dataframe tbody tr th:only-of-type {\n",
       "        vertical-align: middle;\n",
       "    }\n",
       "\n",
       "    .dataframe tbody tr th {\n",
       "        vertical-align: top;\n",
       "    }\n",
       "\n",
       "    .dataframe thead th {\n",
       "        text-align: right;\n",
       "    }\n",
       "</style>\n",
       "<table border=\"1\" class=\"dataframe\">\n",
       "  <thead>\n",
       "    <tr style=\"text-align: right;\">\n",
       "      <th></th>\n",
       "      <th>Pair</th>\n",
       "      <th>Hypothesis</th>\n",
       "    </tr>\n",
       "  </thead>\n",
       "  <tbody>\n",
       "    <tr>\n",
       "      <th>0</th>\n",
       "      <td>gender-female</td>\n",
       "      <td>Reject Null Hypothesis</td>\n",
       "    </tr>\n",
       "    <tr>\n",
       "      <th>1</th>\n",
       "      <td>gender-male</td>\n",
       "      <td>Reject Null Hypothesis</td>\n",
       "    </tr>\n",
       "    <tr>\n",
       "      <th>2</th>\n",
       "      <td>race/ethnicity-group A</td>\n",
       "      <td>Reject Null Hypothesis</td>\n",
       "    </tr>\n",
       "    <tr>\n",
       "      <th>3</th>\n",
       "      <td>race/ethnicity-group B</td>\n",
       "      <td>Fail to Reject Null Hypothesis</td>\n",
       "    </tr>\n",
       "    <tr>\n",
       "      <th>4</th>\n",
       "      <td>race/ethnicity-group C</td>\n",
       "      <td>Fail to Reject Null Hypothesis</td>\n",
       "    </tr>\n",
       "    <tr>\n",
       "      <th>5</th>\n",
       "      <td>race/ethnicity-group D</td>\n",
       "      <td>Fail to Reject Null Hypothesis</td>\n",
       "    </tr>\n",
       "    <tr>\n",
       "      <th>6</th>\n",
       "      <td>race/ethnicity-group E</td>\n",
       "      <td>Fail to Reject Null Hypothesis</td>\n",
       "    </tr>\n",
       "    <tr>\n",
       "      <th>7</th>\n",
       "      <td>parental_level_of_education-associate's degree</td>\n",
       "      <td>Fail to Reject Null Hypothesis</td>\n",
       "    </tr>\n",
       "    <tr>\n",
       "      <th>8</th>\n",
       "      <td>parental_level_of_education-bachelor's degree</td>\n",
       "      <td>Reject Null Hypothesis</td>\n",
       "    </tr>\n",
       "    <tr>\n",
       "      <th>9</th>\n",
       "      <td>parental_level_of_education-high school</td>\n",
       "      <td>Reject Null Hypothesis</td>\n",
       "    </tr>\n",
       "    <tr>\n",
       "      <th>10</th>\n",
       "      <td>parental_level_of_education-master's degree</td>\n",
       "      <td>Reject Null Hypothesis</td>\n",
       "    </tr>\n",
       "    <tr>\n",
       "      <th>11</th>\n",
       "      <td>parental_level_of_education-some college</td>\n",
       "      <td>Fail to Reject Null Hypothesis</td>\n",
       "    </tr>\n",
       "    <tr>\n",
       "      <th>12</th>\n",
       "      <td>parental_level_of_education-some high school</td>\n",
       "      <td>Fail to Reject Null Hypothesis</td>\n",
       "    </tr>\n",
       "    <tr>\n",
       "      <th>13</th>\n",
       "      <td>lunch-free/reduced</td>\n",
       "      <td>Reject Null Hypothesis</td>\n",
       "    </tr>\n",
       "    <tr>\n",
       "      <th>14</th>\n",
       "      <td>lunch-standard</td>\n",
       "      <td>Reject Null Hypothesis</td>\n",
       "    </tr>\n",
       "    <tr>\n",
       "      <th>15</th>\n",
       "      <td>test preparation course-completed</td>\n",
       "      <td>Reject Null Hypothesis</td>\n",
       "    </tr>\n",
       "    <tr>\n",
       "      <th>16</th>\n",
       "      <td>test preparation course-none</td>\n",
       "      <td>Reject Null Hypothesis</td>\n",
       "    </tr>\n",
       "  </tbody>\n",
       "</table>\n",
       "</div>"
      ],
      "text/plain": [
       "                                              Pair  \\\n",
       "0                                    gender-female   \n",
       "1                                      gender-male   \n",
       "2                           race/ethnicity-group A   \n",
       "3                           race/ethnicity-group B   \n",
       "4                           race/ethnicity-group C   \n",
       "5                           race/ethnicity-group D   \n",
       "6                           race/ethnicity-group E   \n",
       "7   parental_level_of_education-associate's degree   \n",
       "8    parental_level_of_education-bachelor's degree   \n",
       "9          parental_level_of_education-high school   \n",
       "10     parental_level_of_education-master's degree   \n",
       "11        parental_level_of_education-some college   \n",
       "12    parental_level_of_education-some high school   \n",
       "13                              lunch-free/reduced   \n",
       "14                                  lunch-standard   \n",
       "15               test preparation course-completed   \n",
       "16                    test preparation course-none   \n",
       "\n",
       "                        Hypothesis  \n",
       "0           Reject Null Hypothesis  \n",
       "1           Reject Null Hypothesis  \n",
       "2           Reject Null Hypothesis  \n",
       "3   Fail to Reject Null Hypothesis  \n",
       "4   Fail to Reject Null Hypothesis  \n",
       "5   Fail to Reject Null Hypothesis  \n",
       "6   Fail to Reject Null Hypothesis  \n",
       "7   Fail to Reject Null Hypothesis  \n",
       "8           Reject Null Hypothesis  \n",
       "9           Reject Null Hypothesis  \n",
       "10          Reject Null Hypothesis  \n",
       "11  Fail to Reject Null Hypothesis  \n",
       "12  Fail to Reject Null Hypothesis  \n",
       "13          Reject Null Hypothesis  \n",
       "14          Reject Null Hypothesis  \n",
       "15          Reject Null Hypothesis  \n",
       "16          Reject Null Hypothesis  "
      ]
     },
     "execution_count": 26,
     "metadata": {},
     "output_type": "execute_result"
    }
   ],
   "source": [
    "check = {}\n",
    "for i in res[res['Hypothesis'] == 'Reject Null Hypothesis']['Column']:\n",
    "    dummies = pd.get_dummies(writing_data[i])\n",
    "    bon_p_value = 0.05/writing_data[i].nunique()\n",
    "    for series in dummies:\n",
    "        if chi2_contingency(pd.crosstab(writing_data['score_bin'], dummies[series]))[1] < bon_p_value:\n",
    "            check['{}-{}'.format(i, series)] = 'Reject Null Hypothesis'\n",
    "        else:\n",
    "            check['{}-{}'.format(i, series)] = 'Fail to Reject Null Hypothesis'\n",
    "res_chi = pd.DataFrame(data = [check.keys(), check.values()]).T\n",
    "res_chi.columns = ['Pair', 'Hypothesis']\n",
    "res_chi"
   ]
  },
  {
   "cell_type": "code",
   "execution_count": 27,
   "metadata": {},
   "outputs": [
    {
     "name": "stdout",
     "output_type": "stream",
     "text": [
      "0.7633333333333333\n",
      "              precision    recall  f1-score   support\n",
      "\n",
      "        Fail       0.63      0.47      0.54        88\n",
      "        Pass       0.80      0.89      0.84       212\n",
      "\n",
      "    accuracy                           0.76       300\n",
      "   macro avg       0.72      0.68      0.69       300\n",
      "weighted avg       0.75      0.76      0.75       300\n",
      "\n"
     ]
    }
   ],
   "source": [
    "data_log = pd.get_dummies(data = writing_data, columns = writing_data.select_dtypes(exclude = 'number').drop('score_bin', axis =1).columns)\n",
    "#Change the class into numerical value\n",
    "#data_log['score_bin'] = data_log['score_bin'].apply(lambda x: 0 if x == 'Fail' else 1)\n",
    "#Splitting the data into Training and Test data\n",
    "from sklearn.model_selection import train_test_split\n",
    "X_train, X_test, y_train, y_test = train_test_split(data_log.drop('score_bin', axis =1), data_log['score_bin'], test_size = 0.30, random_state = 101)\n",
    "#Creating the prediction model\n",
    "from sklearn.linear_model import LogisticRegression\n",
    "log_model = LogisticRegression(max_iter = 1000)\n",
    "log_model.fit(X_train, y_train)\n",
    "#Performance Check\n",
    "from sklearn.metrics import classification_report, confusion_matrix, roc_curve,auc, accuracy_score\n",
    "predictions = log_model.predict(X_test)\n",
    "print(accuracy_score(y_test, predictions))\n",
    "print(classification_report(y_test,predictions))"
   ]
  },
  {
   "cell_type": "code",
   "execution_count": 28,
   "metadata": {},
   "outputs": [],
   "source": [
    "#Get the list of all the significant pairwise\n",
    "significant_chi = []\n",
    "for i in res_chi[res_chi['Hypothesis'] == 'Reject Null Hypothesis']['Pair']:\n",
    "    significant_chi.append('{}_{}'.format(i.split('-')[0],i.split('-')[1]))\n"
   ]
  },
  {
   "cell_type": "code",
   "execution_count": 29,
   "metadata": {},
   "outputs": [
    {
     "data": {
      "text/plain": [
       "['gender_female',\n",
       " 'gender_male',\n",
       " 'race/ethnicity_group A',\n",
       " \"parental_level_of_education_bachelor's degree\",\n",
       " 'parental_level_of_education_high school',\n",
       " \"parental_level_of_education_master's degree\",\n",
       " 'lunch_free/reduced',\n",
       " 'lunch_standard',\n",
       " 'test preparation course_completed',\n",
       " 'test preparation course_none']"
      ]
     },
     "execution_count": 29,
     "metadata": {},
     "output_type": "execute_result"
    }
   ],
   "source": [
    "significant_chi"
   ]
  },
  {
   "cell_type": "code",
   "execution_count": 30,
   "metadata": {},
   "outputs": [
    {
     "name": "stdout",
     "output_type": "stream",
     "text": [
      "['gender_male', 'race/ethnicity_group A', \"parental_level_of_education_bachelor's degree\", 'parental_level_of_education_high school', \"parental_level_of_education_master's degree\", 'lunch_standard', 'test preparation course_none']\n"
     ]
    }
   ],
   "source": [
    "#Drop the data with duplicate information\n",
    "for i in ['gender_female', 'lunch_free/reduced',  'test preparation course_completed']:\n",
    "    significant_chi.remove(i)\n",
    "print(significant_chi)"
   ]
  },
  {
   "cell_type": "code",
   "execution_count": 32,
   "metadata": {},
   "outputs": [
    {
     "name": "stdout",
     "output_type": "stream",
     "text": [
      "0.7133333333333334 0.7727272727272727 0.6126126126126127\n"
     ]
    }
   ],
   "source": [
    "log_model = LogisticRegression(max_iter = 1000, class_weight=\"balanced\")\n",
    "log_model.fit(X_train[significant_chi], y_train)\n",
    "#Metrics check\n",
    "from sklearn import metrics\n",
    "predictions = log_model.predict(X_test[significant_chi])\n",
    "print(accuracy_score(y_test, predictions), metrics.recall_score(y_test, predictions, pos_label='Fail'), metrics.f1_score(y_test, predictions, pos_label='Fail'))"
   ]
  },
  {
   "cell_type": "markdown",
   "metadata": {},
   "source": [
    "We now need to encode our values so that the decision tree algorithm can use them. Since the decisions are made based on less/more than basis let's encode the gender, lunch and  test preparation using .LabelEncoder() since all of these can go only two ways so the split will always be okay evaluating one label at a time, but let's use one hot encoder for race and parental education since these are not ordinal values (even though level of education could be, in this case we can't quite say whether 'some college' or 'associates degree' is higher). "
   ]
  },
  {
   "cell_type": "code",
   "execution_count": 33,
   "metadata": {},
   "outputs": [
    {
     "data": {
      "text/plain": [
       "DecisionTreeClassifier(class_weight='balanced', criterion='entropy',\n",
       "                       max_depth=5)"
      ]
     },
     "execution_count": 33,
     "metadata": {},
     "output_type": "execute_result"
    }
   ],
   "source": [
    "from sklearn.tree import DecisionTreeClassifier\n",
    "\n",
    "scoreTree=DecisionTreeClassifier(criterion=\"entropy\", max_depth = 5, class_weight='balanced')\n",
    "scoreTree.fit(X_train[significant_chi], y_train)\n"
   ]
  },
  {
   "cell_type": "code",
   "execution_count": 34,
   "metadata": {},
   "outputs": [
    {
     "name": "stdout",
     "output_type": "stream",
     "text": [
      "0.7 0.7954545454545454 0.6086956521739131\n"
     ]
    }
   ],
   "source": [
    "predictions4=scoreTree.predict(X_test[significant_chi]) \n",
    "print(accuracy_score(y_test, predictions4), metrics.recall_score(y_test, predictions4, pos_label='Fail'), metrics.f1_score(y_test, predictions4, pos_label='Fail'))"
   ]
  },
  {
   "cell_type": "code",
   "execution_count": 35,
   "metadata": {},
   "outputs": [
    {
     "name": "stdout",
     "output_type": "stream",
     "text": [
      "0.6966666666666667 0.7840909090909091 0.6026200873362445\n"
     ]
    }
   ],
   "source": [
    "from sklearn import svm\n",
    "svmachine=svm.SVC(kernel='rbf', class_weight='balanced')\n",
    "svmachine.fit(X_train[significant_chi], y_train)\n",
    "predictions3=svmachine.predict(X_test[significant_chi]) \n",
    "print(accuracy_score(y_test, predictions3),metrics.recall_score(y_test, predictions3, pos_label='Fail'), metrics.f1_score(y_test, predictions3, pos_label='Fail'))"
   ]
  },
  {
   "cell_type": "code",
   "execution_count": 36,
   "metadata": {},
   "outputs": [
    {
     "name": "stdout",
     "output_type": "stream",
     "text": [
      "0.67 0.7727272727272727 0.5787234042553191\n"
     ]
    }
   ],
   "source": [
    "from sklearn.neighbors import KNeighborsClassifier\n",
    "KNN = KNeighborsClassifier(n_neighbors=4)\n",
    "KNN.fit(X_train[significant_chi], y_train)\n",
    "predictions2=KNN.predict(X_test[significant_chi]) \n",
    "print(accuracy_score(y_test, predictions2), metrics.recall_score(y_test, predictions2, pos_label='Fail'), metrics.f1_score(y_test, predictions2, pos_label='Fail'))\n"
   ]
  },
  {
   "cell_type": "code",
   "execution_count": 37,
   "metadata": {},
   "outputs": [
    {
     "name": "stdout",
     "output_type": "stream",
     "text": [
      "0.7033333333333334 0.7613636363636364 0.600896860986547\n"
     ]
    }
   ],
   "source": [
    "from sklearn.ensemble import RandomForestClassifier\n",
    "randomfor=RandomForestClassifier(n_estimators=100, class_weight='balanced')\n",
    "randomfor.fit(X_train[significant_chi], y_train)\n",
    "predictions5=randomfor.predict(X_test[significant_chi]) \n",
    "print(accuracy_score(y_test, predictions5), metrics.recall_score(y_test, predictions5, pos_label='Fail'), metrics.f1_score(y_test, predictions5, pos_label='Fail'))\n"
   ]
  },
  {
   "cell_type": "code",
   "execution_count": 38,
   "metadata": {},
   "outputs": [],
   "source": [
    "pred_list=[predictions, predictions2, predictions3, predictions4, predictions5]\n",
    "accuracy=[]\n",
    "recall=[]\n",
    "F1=[]\n",
    "\n",
    "for pred in pred_list:\n",
    "    accuracy.append(metrics.accuracy_score(y_test, pred)*100)\n",
    "    recall.append(metrics.recall_score(y_test, pred, pos_label='Fail')*100)\n",
    "    F1.append(metrics.f1_score(y_test, pred, pos_label='Fail'))"
   ]
  },
  {
   "cell_type": "code",
   "execution_count": 39,
   "metadata": {},
   "outputs": [],
   "source": [
    "results={'Algorithm': ['Logistic regression','KNN', 'SVM', 'Decision Tree Classifier', 'Random Forest Classifier'], 'Accuracy':accuracy,'Recall':recall, 'F1':F1}\n",
    "results_df=pd.DataFrame(data=results)"
   ]
  },
  {
   "cell_type": "code",
   "execution_count": 40,
   "metadata": {},
   "outputs": [],
   "source": [
    "results_df.to_csv('student_score_prediction_comparison.csv')"
   ]
  },
  {
   "cell_type": "code",
   "execution_count": 41,
   "metadata": {},
   "outputs": [
    {
     "data": {
      "text/plain": [
       "<AxesSubplot:xlabel='Predicted', ylabel='Actual'>"
      ]
     },
     "execution_count": 41,
     "metadata": {},
     "output_type": "execute_result"
    },
    {
     "data": {
      "image/png": "[encoded data removed]",
      "text/plain": [
       "<Figure size 432x288 with 2 Axes>"
      ]
     },
     "metadata": {
      "needs_background": "light"
     },
     "output_type": "display_data"
    }
   ],
   "source": [
    "confusion_matrix = pd.crosstab(y_test, predictions3, rownames=['Actual'], colnames=['Predicted'], margins = True)\n",
    "\n",
    "sn.heatmap(confusion_matrix, annot=True)\n"
   ]
  },
  {
   "cell_type": "code",
   "execution_count": null,
   "metadata": {},
   "outputs": [],
   "source": []
  },
  {
   "cell_type": "code",
   "execution_count": null,
   "metadata": {},
   "outputs": [],
   "source": []
  }
 ],
 "metadata": {
  "kernelspec": {
   "display_name": "Python 3",
   "language": "python",
   "name": "python3"
  },
  "language_info": {
   "codemirror_mode": {
    "name": "ipython",
    "version": 3
   },
   "file_extension": ".py",
   "mimetype": "text/x-python",
   "name": "python",
   "nbconvert_exporter": "python",
   "pygments_lexer": "ipython3",
   "version": "3.7.9"
  }
 },
 "nbformat": 4,
 "nbformat_minor": 4
}
